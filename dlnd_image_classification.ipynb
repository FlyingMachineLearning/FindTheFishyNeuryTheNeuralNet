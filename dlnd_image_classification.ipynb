{
 "cells": [
  {
   "cell_type": "markdown",
   "metadata": {
    "collapsed": true
   },
   "source": [
    "# Image Classification\n",
    "In this project, you'll classify images from the [CIFAR-10 dataset](https://www.cs.toronto.edu/~kriz/cifar.html).  The dataset consists of airplanes, dogs, cats, and other objects. You'll preprocess the images, then train a convolutional neural network on all the samples. The images need to be normalized and the labels need to be one-hot encoded.  You'll get to apply what you learned and build a convolutional, max pooling, dropout, and fully connected layers.  At the end, you'll get to see your neural network's predictions on the sample images.\n",
    "## Get the Data\n",
    "Run the following cell to download the [CIFAR-10 dataset for python](https://www.cs.toronto.edu/~kriz/cifar-10-python.tar.gz)."
   ]
  },
  {
   "cell_type": "code",
   "execution_count": 1,
   "metadata": {},
   "outputs": [
    {
     "name": "stdout",
     "output_type": "stream",
     "text": [
      "All files found!\n"
     ]
    }
   ],
   "source": [
    "\"\"\"\n",
    "DON'T MODIFY ANYTHING IN THIS CELL THAT IS BELOW THIS LINE\n",
    "\"\"\"\n",
    "from urllib.request import urlretrieve\n",
    "from os.path import isfile, isdir\n",
    "from tqdm import tqdm\n",
    "import problem_unittests as tests\n",
    "import tarfile\n",
    "\n",
    "cifar10_dataset_folder_path = 'cifar-10-batches-py'\n",
    "\n",
    "# Use Floyd's cifar-10 dataset if present\n",
    "floyd_cifar10_location = '/input/cifar-10/python.tar.gz'\n",
    "if isfile(floyd_cifar10_location):\n",
    "    tar_gz_path = floyd_cifar10_location\n",
    "else:\n",
    "    tar_gz_path = 'cifar-10-python.tar.gz'\n",
    "\n",
    "class DLProgress(tqdm):\n",
    "    last_block = 0\n",
    "\n",
    "    def hook(self, block_num=1, block_size=1, total_size=None):\n",
    "        self.total = total_size\n",
    "        self.update((block_num - self.last_block) * block_size)\n",
    "        self.last_block = block_num\n",
    "\n",
    "if not isfile(tar_gz_path):\n",
    "    with DLProgress(unit='B', unit_scale=True, miniters=1, desc='CIFAR-10 Dataset') as pbar:\n",
    "        urlretrieve(\n",
    "            'https://www.cs.toronto.edu/~kriz/cifar-10-python.tar.gz',\n",
    "            tar_gz_path,\n",
    "            pbar.hook)\n",
    "\n",
    "if not isdir(cifar10_dataset_folder_path):\n",
    "    with tarfile.open(tar_gz_path) as tar:\n",
    "        tar.extractall()\n",
    "        tar.close()\n",
    "\n",
    "\n",
    "tests.test_folder_path(cifar10_dataset_folder_path)"
   ]
  },
  {
   "cell_type": "markdown",
   "metadata": {},
   "source": [
    "## Explore the Data\n",
    "The dataset is broken into batches to prevent your machine from running out of memory.  The CIFAR-10 dataset consists of 5 batches, named `data_batch_1`, `data_batch_2`, etc.. Each batch contains the labels and images that are one of the following:\n",
    "* airplane\n",
    "* automobile\n",
    "* bird\n",
    "* cat\n",
    "* deer\n",
    "* dog\n",
    "* frog\n",
    "* horse\n",
    "* ship\n",
    "* truck\n",
    "\n",
    "Understanding a dataset is part of making predictions on the data.  Play around with the code cell below by changing the `batch_id` and `sample_id`. The `batch_id` is the id for a batch (1-5). The `sample_id` is the id for a image and label pair in the batch.\n",
    "\n",
    "Ask yourself \"What are all possible labels?\", \"What is the range of values for the image data?\", \"Are the labels in order or random?\".  Answers to questions like these will help you preprocess the data and end up with better predictions."
   ]
  },
  {
   "cell_type": "code",
   "execution_count": 2,
   "metadata": {},
   "outputs": [
    {
     "name": "stdout",
     "output_type": "stream",
     "text": [
      "\n",
      "Stats of batch 1:\n",
      "Samples: 10000\n",
      "Label Counts: {0: 1005, 1: 974, 2: 1032, 3: 1016, 4: 999, 5: 937, 6: 1030, 7: 1001, 8: 1025, 9: 981}\n",
      "First 20 Labels: [6, 9, 9, 4, 1, 1, 2, 7, 8, 3, 4, 7, 7, 2, 9, 9, 9, 3, 2, 6]\n",
      "\n",
      "Example of Image 5:\n",
      "Image - Min Value: 0 Max Value: 252\n",
      "Image - Shape: (32, 32, 3)\n",
      "Label - Label Id: 1 Name: automobile\n"
     ]
    },
    {
     "data": {
      "image/png": "[encoded data removed]",
      "text/plain": [
       "<matplotlib.figure.Figure at 0x7f9e86a1b828>"
      ]
     },
     "metadata": {
      "image/png": {
       "height": 250,
       "width": 253
      }
     },
     "output_type": "display_data"
    }
   ],
   "source": [
    "%matplotlib inline\n",
    "%config InlineBackend.figure_format = 'retina'\n",
    "\n",
    "import helper\n",
    "import numpy as np\n",
    "\n",
    "# Explore the dataset\n",
    "batch_id = 1\n",
    "sample_id = 5\n",
    "helper.display_stats(cifar10_dataset_folder_path, batch_id, sample_id)"
   ]
  },
  {
   "cell_type": "markdown",
   "metadata": {},
   "source": [
    "## Implement Preprocess Functions\n",
    "### Normalize\n",
    "In the cell below, implement the `normalize` function to take in image data, `x`, and return it as a normalized Numpy array. The values should be in the range of 0 to 1, inclusive.  The return object should be the same shape as `x`."
   ]
  },
  {
   "cell_type": "code",
   "execution_count": 3,
   "metadata": {},
   "outputs": [
    {
     "name": "stdout",
     "output_type": "stream",
     "text": [
      "Tests Passed\n"
     ]
    }
   ],
   "source": [
    "def normalize(x):\n",
    "    \"\"\"\n",
    "    Normalize a list of sample image data in the range of 0 to 1\n",
    "    : x: List of image data.  The image shape is (32, 32, 3)\n",
    "    : return: Numpy array of normalize data\n",
    "    \"\"\"\n",
    "    # TODO: Implement Function\n",
    "    # Normalize = x(i) - min(x)/(max(x)-min(x))\n",
    "    #a = np.min(x)\n",
    "    #b = np.max(x)\n",
    "    #c = b-a\n",
    "    #print(a)\n",
    "    #num = 32*32*3\n",
    "    #r = np.reshape(x,(1,num))\n",
    "    return (np.array(x)-np.min(x))/(np.max(x)-np.min(x))\n",
    "\n",
    "\n",
    "\"\"\"\n",
    "DON'T MODIFY ANYTHING IN THIS CELL THAT IS BELOW THIS LINE\n",
    "\"\"\"\n",
    "tests.test_normalize(normalize)"
   ]
  },
  {
   "cell_type": "markdown",
   "metadata": {},
   "source": [
    "### One-hot encode\n",
    "Just like the previous code cell, you'll be implementing a function for preprocessing.  This time, you'll implement the `one_hot_encode` function. The input, `x`, are a list of labels.  Implement the function to return the list of labels as One-Hot encoded Numpy array.  The possible values for labels are 0 to 9. The one-hot encoding function should return the same encoding for each value between each call to `one_hot_encode`.  Make sure to save the map of encodings outside the function.\n",
    "\n",
    "Hint: Don't reinvent the wheel."
   ]
  },
  {
   "cell_type": "code",
   "execution_count": 4,
   "metadata": {},
   "outputs": [
    {
     "name": "stdout",
     "output_type": "stream",
     "text": [
      "Tests Passed\n"
     ]
    }
   ],
   "source": [
    "def one_hot_encode(x):\n",
    "    \"\"\"\n",
    "    One hot encode a list of sample labels. Return a one-hot encoded vector for each label.\n",
    "    : x: List of sample Labels\n",
    "    : return: Numpy array of one-hot encoded labels\n",
    "    \"\"\"\n",
    "    # TODO: Implement Function\n",
    "    #numpy's eye returns a 2-D array with ones on the diagonal and zeros elsewhere.\n",
    "    return np.eye(10)[x]\n",
    "\n",
    "\n",
    "\"\"\"\n",
    "DON'T MODIFY ANYTHING IN THIS CELL THAT IS BELOW THIS LINE\n",
    "\"\"\"\n",
    "tests.test_one_hot_encode(one_hot_encode)"
   ]
  },
  {
   "cell_type": "markdown",
   "metadata": {},
   "source": [
    "### Randomize Data\n",
    "As you saw from exploring the data above, the order of the samples are randomized.  It doesn't hurt to randomize it again, but you don't need to for this dataset."
   ]
  },
  {
   "cell_type": "markdown",
   "metadata": {},
   "source": [
    "## Preprocess all the data and save it\n",
    "Running the code cell below will preprocess all the CIFAR-10 data and save it to file. The code below also uses 10% of the training data for validation."
   ]
  },
  {
   "cell_type": "code",
   "execution_count": 5,
   "metadata": {
    "collapsed": true
   },
   "outputs": [],
   "source": [
    "\"\"\"\n",
    "DON'T MODIFY ANYTHING IN THIS CELL\n",
    "\"\"\"\n",
    "# Preprocess Training, Validation, and Testing Data\n",
    "helper.preprocess_and_save_data(cifar10_dataset_folder_path, normalize, one_hot_encode)"
   ]
  },
  {
   "cell_type": "markdown",
   "metadata": {},
   "source": [
    "# Check Point\n",
    "This is your first checkpoint.  If you ever decide to come back to this notebook or have to restart the notebook, you can start from here.  The preprocessed data has been saved to disk."
   ]
  },
  {
   "cell_type": "code",
   "execution_count": 6,
   "metadata": {
    "collapsed": true
   },
   "outputs": [],
   "source": [
    "\"\"\"\n",
    "DON'T MODIFY ANYTHING IN THIS CELL\n",
    "\"\"\"\n",
    "import pickle\n",
    "import problem_unittests as tests\n",
    "import helper\n",
    "\n",
    "# Load the Preprocessed Validation data\n",
    "valid_features, valid_labels = pickle.load(open('preprocess_validation.p', mode='rb'))"
   ]
  },
  {
   "cell_type": "markdown",
   "metadata": {},
   "source": [
    "## Build the network\n",
    "For the neural network, you'll build each layer into a function.  Most of the code you've seen has been outside of functions. To test your code more thoroughly, we require that you put each layer in a function.  This allows us to give you better feedback and test for simple mistakes using our unittests before you submit your project.\n",
    "\n",
    ">**Note:** If you're finding it hard to dedicate enough time for this course each week, we've provided a small shortcut to this part of the project. In the next couple of problems, you'll have the option to use classes from the [TensorFlow Layers](https://www.tensorflow.org/api_docs/python/tf/layers) or [TensorFlow Layers (contrib)](https://www.tensorflow.org/api_guides/python/contrib.layers) packages to build each layer, except the layers you build in the \"Convolutional and Max Pooling Layer\" section.  TF Layers is similar to Keras's and TFLearn's abstraction to layers, so it's easy to pickup.\n",
    "\n",
    ">However, if you would like to get the most out of this course, try to solve all the problems _without_ using anything from the TF Layers packages. You **can** still use classes from other packages that happen to have the same name as ones you find in TF Layers! For example, instead of using the TF Layers version of the `conv2d` class, [tf.layers.conv2d](https://www.tensorflow.org/api_docs/python/tf/layers/conv2d), you would want to use the TF Neural Network version of `conv2d`, [tf.nn.conv2d](https://www.tensorflow.org/api_docs/python/tf/nn/conv2d). \n",
    "\n",
    "Let's begin!\n",
    "\n",
    "### Input\n",
    "The neural network needs to read the image data, one-hot encoded labels, and dropout keep probability. Implement the following functions\n",
    "* Implement `neural_net_image_input`\n",
    " * Return a [TF Placeholder](https://www.tensorflow.org/api_docs/python/tf/placeholder)\n",
    " * Set the shape using `image_shape` with batch size set to `None`.\n",
    " * Name the TensorFlow placeholder \"x\" using the TensorFlow `name` parameter in the [TF Placeholder](https://www.tensorflow.org/api_docs/python/tf/placeholder).\n",
    "* Implement `neural_net_label_input`\n",
    " * Return a [TF Placeholder](https://www.tensorflow.org/api_docs/python/tf/placeholder)\n",
    " * Set the shape using `n_classes` with batch size set to `None`.\n",
    " * Name the TensorFlow placeholder \"y\" using the TensorFlow `name` parameter in the [TF Placeholder](https://www.tensorflow.org/api_docs/python/tf/placeholder).\n",
    "* Implement `neural_net_keep_prob_input`\n",
    " * Return a [TF Placeholder](https://www.tensorflow.org/api_docs/python/tf/placeholder) for dropout keep probability.\n",
    " * Name the TensorFlow placeholder \"keep_prob\" using the TensorFlow `name` parameter in the [TF Placeholder](https://www.tensorflow.org/api_docs/python/tf/placeholder).\n",
    "\n",
    "These names will be used at the end of the project to load your saved model.\n",
    "\n",
    "Note: `None` for shapes in TensorFlow allow for a dynamic size."
   ]
  },
  {
   "cell_type": "code",
   "execution_count": 7,
   "metadata": {},
   "outputs": [
    {
     "name": "stdout",
     "output_type": "stream",
     "text": [
      "Image Input Tests Passed.\n",
      "Label Input Tests Passed.\n",
      "Keep Prob Tests Passed.\n"
     ]
    }
   ],
   "source": [
    "import tensorflow as tf\n",
    "\n",
    "def neural_net_image_input(image_shape):\n",
    "    \"\"\"\n",
    "    Return a Tensor for a batch of image input\n",
    "    : image_shape: Shape of the images\n",
    "    : return: Tensor for image input.\n",
    "    \"\"\"\n",
    "    # TODO: Implement Function\n",
    "    \n",
    "    #Creates a 4D tensor, names it x\n",
    "    return tf.placeholder(tf.float32, shape=[None, image_shape[0],image_shape[1],image_shape[2]], name=\"x\")\n",
    "\n",
    "\n",
    "def neural_net_label_input(n_classes):\n",
    "    \"\"\"\n",
    "    Return a Tensor for a batch of label input\n",
    "    : n_classes: Number of classes\n",
    "    : return: Tensor for label input.\n",
    "    \"\"\"\n",
    "    # TODO: Implement Function\n",
    "    #y = tf.placeholder(tf.int32) - incorrect naming convention\n",
    "    \n",
    "    #holds the features for later convolution?\n",
    "    return tf.placeholder(tf.float32, shape=[None, n_classes], name=\"y\")\n",
    "\n",
    "\n",
    "def neural_net_keep_prob_input():\n",
    "    \"\"\"\n",
    "    Return a Tensor for keep probability\n",
    "    : return: Tensor for keep probability.\n",
    "    \"\"\"\n",
    "    # TODO: Implement Function\n",
    "    #Holds the probability\n",
    "    return tf.placeholder(tf.float32, name=\"keep_prob\")\n",
    "\n",
    "\n",
    "\"\"\"\n",
    "DON'T MODIFY ANYTHING IN THIS CELL THAT IS BELOW THIS LINE\n",
    "\"\"\"\n",
    "tf.reset_default_graph()\n",
    "tests.test_nn_image_inputs(neural_net_image_input)\n",
    "tests.test_nn_label_inputs(neural_net_label_input)\n",
    "tests.test_nn_keep_prob_inputs(neural_net_keep_prob_input)"
   ]
  },
  {
   "cell_type": "markdown",
   "metadata": {},
   "source": [
    "### Convolution and Max Pooling Layer\n",
    "Convolution layers have a lot of success with images. For this code cell, you should implement the function `conv2d_maxpool` to apply convolution then max pooling:\n",
    "* Create the weight and bias using `conv_ksize`, `conv_num_outputs` and the shape of `x_tensor`.\n",
    "* Apply a convolution to `x_tensor` using weight and `conv_strides`.\n",
    " * We recommend you use same padding, but you're welcome to use any padding.\n",
    "* Add bias\n",
    "* Add a nonlinear activation to the convolution.\n",
    "* Apply Max Pooling using `pool_ksize` and `pool_strides`.\n",
    " * We recommend you use same padding, but you're welcome to use any padding.\n",
    "\n",
    "**Note:** You **can't** use [TensorFlow Layers](https://www.tensorflow.org/api_docs/python/tf/layers) or [TensorFlow Layers (contrib)](https://www.tensorflow.org/api_guides/python/contrib.layers) for **this** layer, but you can still use TensorFlow's [Neural Network](https://www.tensorflow.org/api_docs/python/tf/nn) package. You may still use the shortcut option for all the **other** layers."
   ]
  },
  {
   "cell_type": "code",
   "execution_count": 35,
   "metadata": {},
   "outputs": [
    {
     "name": "stdout",
     "output_type": "stream",
     "text": [
      "Tests Passed\n"
     ]
    }
   ],
   "source": [
    "def conv2d_maxpool(x_tensor, conv_num_outputs, conv_ksize, conv_strides, pool_ksize, pool_strides):\n",
    "    \"\"\"\n",
    "    Apply convolution then max pooling to x_tensor\n",
    "    :param x_tensor: TensorFlow Tensor\n",
    "    :param conv_num_outputs: Number of outputs for the convolutional layer\n",
    "    :param conv_ksize: kernal size 2-D Tuple for the convolutional layer\n",
    "    :param conv_strides: Stride 2-D Tuple for convolution\n",
    "    :param pool_ksize: kernal size 2-D Tuple for pool\n",
    "    :param pool_strides: Stride 2-D Tuple for pool\n",
    "    : return: A tensor that represents convolution and max pooling of x_tensor\n",
    "    \"\"\"\n",
    "    # TODO: Implement Function\n",
    "    #Get Shape of x_tensor\n",
    "    s = int(x_tensor.get_shape()[3].value)\n",
    "    \n",
    "    #Get Weights, #####stddev = 1/256**1/2 = 1/16 = 0.0625\n",
    "    W = tf.Variable(tf.truncated_normal(shape=[conv_ksize[0], conv_ksize[1], s, conv_num_outputs],stddev=0.01))\n",
    "    \n",
    "    #Get Bias\n",
    "    b = tf.Variable(tf.zeros(shape=[conv_num_outputs]))\n",
    "    \n",
    "    #Get the Strides and Outputs & make later code more readable\n",
    "    cnn_strides = [1,conv_strides[0],conv_strides[0],1]\n",
    "    pool_k = [1,pool_ksize[0],pool_ksize[1],1]\n",
    "    maxpool_strides = [1,pool_strides[0],pool_strides[1],1]\n",
    "    \n",
    "    #Convolute\n",
    "    conv2d = tf.nn.conv2d(x_tensor, W, cnn_strides, padding='SAME')\n",
    "    \n",
    "    #Add Bias\n",
    "    biased = tf.nn.bias_add(conv2d, b)\n",
    "    \n",
    "    #Relu Twin Powers Activate\n",
    "    activate = tf.nn.relu(biased)\n",
    "    \n",
    "    #Deepest Pool You Can Find\n",
    "    toThePool = tf.nn.max_pool(activate, pool_k, maxpool_strides, padding='SAME')\n",
    "    \n",
    "    return toThePool\n",
    "\n",
    "\n",
    "\"\"\"\n",
    "DON'T MODIFY ANYTHING IN THIS CELL THAT IS BELOW THIS LINE\n",
    "\"\"\"\n",
    "tests.test_con_pool(conv2d_maxpool)"
   ]
  },
  {
   "cell_type": "markdown",
   "metadata": {},
   "source": [
    "### Flatten Layer\n",
    "Implement the `flatten` function to change the dimension of `x_tensor` from a 4-D tensor to a 2-D tensor.  The output should be the shape (*Batch Size*, *Flattened Image Size*). Shortcut option: you can use classes from the [TensorFlow Layers](https://www.tensorflow.org/api_docs/python/tf/layers) or [TensorFlow Layers (contrib)](https://www.tensorflow.org/api_guides/python/contrib.layers) packages for this layer. For more of a challenge, only use other TensorFlow packages."
   ]
  },
  {
   "cell_type": "code",
   "execution_count": 36,
   "metadata": {},
   "outputs": [
    {
     "name": "stdout",
     "output_type": "stream",
     "text": [
      "Tests Passed\n"
     ]
    }
   ],
   "source": [
    "def flatten(x_tensor):\n",
    "    \"\"\"\n",
    "    Flatten x_tensor to (Batch Size, Flattened Image Size)\n",
    "    : x_tensor: A tensor of size (Batch Size, ...), where ... are the image dimensions.\n",
    "    : return: A tensor of size (Batch Size, Flattened Image Size).\n",
    "    \"\"\"\n",
    "    # TODO: Implement Function\n",
    "    \n",
    "    #Get list of x_tensor's dimensions so we can perform the necessary operations to reshape it\n",
    "    l = x_tensor.get_shape().as_list()\n",
    "    \n",
    "    #We know batch is the first one, get the \"volume\" of remaining dimensions\n",
    "    d = np.prod(l[1:])\n",
    "    \n",
    "    #Use TF's built-in reshape functionality, use \"-1\" to infer batch in case of \"None\" parameter\n",
    "    flattened = tf.reshape(x_tensor, [-1, d])\n",
    "    \n",
    "    return flattened\n",
    "\n",
    "\n",
    "\"\"\"\n",
    "DON'T MODIFY ANYTHING IN THIS CELL THAT IS BELOW THIS LINE\n",
    "\"\"\"\n",
    "tests.test_flatten(flatten)"
   ]
  },
  {
   "cell_type": "markdown",
   "metadata": {},
   "source": [
    "### Fully-Connected Layer\n",
    "Implement the `fully_conn` function to apply a fully connected layer to `x_tensor` with the shape (*Batch Size*, *num_outputs*). Shortcut option: you can use classes from the [TensorFlow Layers](https://www.tensorflow.org/api_docs/python/tf/layers) or [TensorFlow Layers (contrib)](https://www.tensorflow.org/api_guides/python/contrib.layers) packages for this layer. For more of a challenge, only use other TensorFlow packages."
   ]
  },
  {
   "cell_type": "code",
   "execution_count": 37,
   "metadata": {},
   "outputs": [
    {
     "name": "stdout",
     "output_type": "stream",
     "text": [
      "Tests Passed\n"
     ]
    }
   ],
   "source": [
    "def fully_conn(x_tensor, num_outputs):\n",
    "    \"\"\"\n",
    "    Apply a fully connected layer to x_tensor using weight and bias\n",
    "    : x_tensor: A 2-D tensor where the first dimension is batch size.\n",
    "    : num_outputs: The number of output that the new tensor should be.\n",
    "    : return: A 2-D tensor where the second dimension is num_outputs.\n",
    "    \"\"\"\n",
    "    # TODO: Implement Function\n",
    "    n = num_outputs\n",
    "    fullyConnectedLayer = tf.contrib.layers.fully_connected(inputs=x_tensor, num_outputs=n, activation_fn=tf.nn.relu)\n",
    "    return fullyConnectedLayer\n",
    "\n",
    "\n",
    "\"\"\"\n",
    "DON'T MODIFY ANYTHING IN THIS CELL THAT IS BELOW THIS LINE\n",
    "\"\"\"\n",
    "tests.test_fully_conn(fully_conn)"
   ]
  },
  {
   "cell_type": "markdown",
   "metadata": {},
   "source": [
    "### Output Layer\n",
    "Implement the `output` function to apply a fully connected layer to `x_tensor` with the shape (*Batch Size*, *num_outputs*). Shortcut option: you can use classes from the [TensorFlow Layers](https://www.tensorflow.org/api_docs/python/tf/layers) or [TensorFlow Layers (contrib)](https://www.tensorflow.org/api_guides/python/contrib.layers) packages for this layer. For more of a challenge, only use other TensorFlow packages.\n",
    "\n",
    "**Note:** Activation, softmax, or cross entropy should **not** be applied to this."
   ]
  },
  {
   "cell_type": "code",
   "execution_count": 38,
   "metadata": {},
   "outputs": [
    {
     "name": "stdout",
     "output_type": "stream",
     "text": [
      "Tests Passed\n"
     ]
    }
   ],
   "source": [
    "def output(x_tensor, num_outputs):\n",
    "    \"\"\"\n",
    "    Apply a output layer to x_tensor using weight and bias\n",
    "    : x_tensor: A 2-D tensor where the first dimension is batch size.\n",
    "    : num_outputs: The number of output that the new tensor should be.\n",
    "    : return: A 2-D tensor where the second dimension is num_outputs.\n",
    "    \"\"\"\n",
    "    # TODO: Implement Function\n",
    "    #Reluuu = tf.nn.relu(x_tensor)\n",
    "    #Reluuu = tf.contrib.layers.fully_connected(inputs=x_tensor, num_outputs=num_outputs, activation_fn='relu')\n",
    "    n = num_outputs\n",
    "    finalLayer = tf.contrib.layers.fully_connected(inputs=x_tensor, num_outputs=n, activation_fn=None)\n",
    "    return finalLayer\n",
    "\n",
    "\n",
    "\"\"\"\n",
    "DON'T MODIFY ANYTHING IN THIS CELL THAT IS BELOW THIS LINE\n",
    "\"\"\"\n",
    "tests.test_output(output)"
   ]
  },
  {
   "cell_type": "markdown",
   "metadata": {},
   "source": [
    "### Create Convolutional Model\n",
    "Implement the function `conv_net` to create a convolutional neural network model. The function takes in a batch of images, `x`, and outputs logits.  Use the layers you created above to create this model:\n",
    "\n",
    "* Apply 1, 2, or 3 Convolution and Max Pool layers\n",
    "* Apply a Flatten Layer\n",
    "* Apply 1, 2, or 3 Fully Connected Layers\n",
    "* Apply an Output Layer\n",
    "* Return the output\n",
    "* Apply [TensorFlow's Dropout](https://www.tensorflow.org/api_docs/python/tf/nn/dropout) to one or more layers in the model using `keep_prob`. "
   ]
  },
  {
   "cell_type": "code",
   "execution_count": 54,
   "metadata": {},
   "outputs": [
    {
     "name": "stdout",
     "output_type": "stream",
     "text": [
      "Neural Network Built!\n"
     ]
    }
   ],
   "source": [
    "def conv_net(x, keep_prob):\n",
    "    \"\"\"\n",
    "    Create a convolutional neural network model\n",
    "    : x: Placeholder tensor that holds image data.\n",
    "    : keep_prob: Placeholder tensor that hold dropout keep probability.\n",
    "    : return: Tensor that represents logits\n",
    "    \"\"\"\n",
    "    # TODO: Apply 1, 2, or 3 Convolution and Max Pool layers\n",
    "    #    Play around with different number of outputs, kernel size and stride\n",
    "    # Function Definition from Above:\n",
    "    #    conv2d_maxpool(x_tensor, conv_num_outputs, conv_ksize, conv_strides, pool_ksize, pool_strides)\n",
    "    \n",
    "    \n",
    "    \n",
    "    #Ask reviewer(s) for advice on the layers & max pooling here, recommendations per CS231n\n",
    "    conv_num_outputs = 64\n",
    "    conv_ksize = [5,5]\n",
    "    conv_strides = [1,1]\n",
    "    pool_ksize = [3,3]\n",
    "    pool_strides = [2,2] #works okay at [1,1] & [2,2]\n",
    "    \n",
    "    #Max Layer \n",
    "    x = conv2d_maxpool(x, conv_num_outputs, conv_ksize, conv_strides, pool_ksize, pool_strides)\n",
    "    \n",
    "    #Drop\n",
    "    x = tf.nn.dropout(x, tf.to_float(keep_prob))\n",
    "    \n",
    "    # TODO: Apply a Flatten Layer\n",
    "    # Function Definition from Above:\n",
    "    #   flatten(x_tensor)\n",
    "    \n",
    "    #Flatten Layer\n",
    "    x = flatten(x)\n",
    "    \n",
    "    num_outputs = 10\n",
    "    \n",
    "    # TODO: Apply 1, 2, or 3 Fully Connected Layers\n",
    "    #    Play around with different number of outputs\n",
    "    # Function Definition from Above:\n",
    "    #   fully_conn(x_tensor, num_outputs)\n",
    "    #CS231n\n",
    "    \n",
    "    #Connected Layer 1\n",
    "    x = fully_conn(x, num_outputs)\n",
    "    \n",
    "    #Connected Layer 2\n",
    "    x = fully_conn(x, num_outputs)\n",
    "    \n",
    "    #Connected Layer 3\n",
    "    x = fully_conn(x, num_outputs)\n",
    "    \n",
    "    # TODO: Apply an Output Layer\n",
    "    #    Set this to the number of classes\n",
    "    # Function Definition from Above:\n",
    "    #   output(x_tensor, num_outputs)\n",
    "    xOut = output(x, num_outputs)\n",
    "    \n",
    "    # TODO: return output\n",
    "    return xOut\n",
    "\n",
    "\n",
    "\"\"\"\n",
    "DON'T MODIFY ANYTHING IN THIS CELL THAT IS BELOW THIS LINE\n",
    "\"\"\"\n",
    "\n",
    "##############################\n",
    "## Build the Neural Network ##\n",
    "##############################\n",
    "\n",
    "# Remove previous weights, bias, inputs, etc..\n",
    "tf.reset_default_graph()\n",
    "\n",
    "# Inputs\n",
    "x = neural_net_image_input((32, 32, 3))\n",
    "y = neural_net_label_input(10)\n",
    "keep_prob = neural_net_keep_prob_input()\n",
    "\n",
    "# Model\n",
    "logits = conv_net(x, keep_prob)\n",
    "\n",
    "# Name logits Tensor, so that is can be loaded from disk after training\n",
    "logits = tf.identity(logits, name='logits')\n",
    "\n",
    "# Loss and Optimizer\n",
    "cost = tf.reduce_mean(tf.nn.softmax_cross_entropy_with_logits(logits=logits, labels=y))\n",
    "optimizer = tf.train.AdamOptimizer().minimize(cost)\n",
    "\n",
    "# Accuracy\n",
    "correct_pred = tf.equal(tf.argmax(logits, 1), tf.argmax(y, 1))\n",
    "accuracy = tf.reduce_mean(tf.cast(correct_pred, tf.float32), name='accuracy')\n",
    "\n",
    "tests.test_conv_net(conv_net)"
   ]
  },
  {
   "cell_type": "markdown",
   "metadata": {},
   "source": [
    "## Train the Neural Network\n",
    "### Single Optimization\n",
    "Implement the function `train_neural_network` to do a single optimization.  The optimization should use `optimizer` to optimize in `session` with a `feed_dict` of the following:\n",
    "* `x` for image input\n",
    "* `y` for labels\n",
    "* `keep_prob` for keep probability for dropout\n",
    "\n",
    "This function will be called for each batch, so `tf.global_variables_initializer()` has already been called.\n",
    "\n",
    "Note: Nothing needs to be returned. This function is only optimizing the neural network."
   ]
  },
  {
   "cell_type": "code",
   "execution_count": 55,
   "metadata": {},
   "outputs": [
    {
     "name": "stdout",
     "output_type": "stream",
     "text": [
      "Tests Passed\n"
     ]
    }
   ],
   "source": [
    "def train_neural_network(session, optimizer, keep_probability, feature_batch, label_batch):\n",
    "    \"\"\"\n",
    "    Optimize the session on a batch of images and labels\n",
    "    : session: Current TensorFlow session\n",
    "    : optimizer: TensorFlow optimizer function\n",
    "    : keep_probability: keep probability\n",
    "    : feature_batch: Batch of Numpy image data\n",
    "    : label_batch: Batch of Numpy label data\n",
    "    \"\"\"\n",
    "    # TODO: Implement Function\n",
    "    sess = session.run(optimizer, feed_dict={x: feature_batch,\n",
    "                                      y: label_batch,\n",
    "                                      keep_prob: keep_probability})\n",
    "    return sess\n",
    "\n",
    "\"\"\"\n",
    "DON'T MODIFY ANYTHING IN THIS CELL THAT IS BELOW THIS LINE\n",
    "\"\"\"\n",
    "tests.test_train_nn(train_neural_network)"
   ]
  },
  {
   "cell_type": "markdown",
   "metadata": {},
   "source": [
    "### Show Stats\n",
    "Implement the function `print_stats` to print loss and validation accuracy.  Use the global variables `valid_features` and `valid_labels` to calculate validation accuracy.  Use a keep probability of `1.0` to calculate the loss and validation accuracy."
   ]
  },
  {
   "cell_type": "code",
   "execution_count": 56,
   "metadata": {
    "collapsed": true
   },
   "outputs": [],
   "source": [
    "def print_stats(session, feature_batch, label_batch, cost, accuracy):\n",
    "    \"\"\"\n",
    "    Print information about loss and validation accuracy\n",
    "    : session: Current TensorFlow session\n",
    "    : feature_batch: Batch of Numpy image data\n",
    "    : label_batch: Batch of Numpy label data\n",
    "    : cost: TensorFlow cost function\n",
    "    : accuracy: TensorFlow accuracy function\n",
    "    \"\"\"\n",
    "    # TODO: Implement Function\n",
    "    loss = sess.run(cost, \n",
    "                    feed_dict={x: feature_batch, \n",
    "                               y: label_batch, \n",
    "                               keep_prob: 1.0})\n",
    "    \n",
    "    validityOfAccuracy = sess.run(accuracy, \n",
    "                         feed_dict={x: valid_features, \n",
    "                                    y: valid_labels, \n",
    "                                    keep_prob: 1.0})\n",
    "    \n",
    "    print('Loss: {:>10.4f} Validation Accuracy: {:.6f}'.format(loss, validityOfAccuracy))"
   ]
  },
  {
   "cell_type": "markdown",
   "metadata": {},
   "source": [
    "### Hyperparameters\n",
    "Tune the following parameters:\n",
    "* Set `epochs` to the number of iterations until the network stops learning or start overfitting\n",
    "* Set `batch_size` to the highest number that your machine has memory for.  Most people set them to common sizes of memory:\n",
    " * 64\n",
    " * 128\n",
    " * 256\n",
    " * ...\n",
    "* Set `keep_probability` to the probability of keeping a node using dropout"
   ]
  },
  {
   "cell_type": "code",
   "execution_count": 57,
   "metadata": {
    "collapsed": true
   },
   "outputs": [],
   "source": [
    "# TODO: Tune Parameters\n",
    "epochs = 50\n",
    "batch_size = 64\n",
    "keep_probability = 0.5"
   ]
  },
  {
   "cell_type": "markdown",
   "metadata": {},
   "source": [
    "### Train on a Single CIFAR-10 Batch\n",
    "Instead of training the neural network on all the CIFAR-10 batches of data, let's use a single batch. This should save time while you iterate on the model to get a better accuracy.  Once the final validation accuracy is 50% or greater, run the model on all the data in the next section."
   ]
  },
  {
   "cell_type": "code",
   "execution_count": 58,
   "metadata": {},
   "outputs": [
    {
     "name": "stdout",
     "output_type": "stream",
     "text": [
      "Checking the Training on a Single Batch...\n",
      "Epoch  1, CIFAR-10 Batch 1:  Loss:     2.2076 Validation Accuracy: 0.242200\n",
      "Epoch  2, CIFAR-10 Batch 1:  Loss:     2.1583 Validation Accuracy: 0.262600\n",
      "Epoch  3, CIFAR-10 Batch 1:  Loss:     1.9883 Validation Accuracy: 0.339400\n",
      "Epoch  4, CIFAR-10 Batch 1:  Loss:     1.9021 Validation Accuracy: 0.357200\n",
      "Epoch  5, CIFAR-10 Batch 1:  Loss:     1.8287 Validation Accuracy: 0.397400\n",
      "Epoch  6, CIFAR-10 Batch 1:  Loss:     1.7962 Validation Accuracy: 0.404800\n",
      "Epoch  7, CIFAR-10 Batch 1:  Loss:     1.7405 Validation Accuracy: 0.414400\n",
      "Epoch  8, CIFAR-10 Batch 1:  Loss:     1.7344 Validation Accuracy: 0.414000\n",
      "Epoch  9, CIFAR-10 Batch 1:  Loss:     1.6708 Validation Accuracy: 0.419600\n",
      "Epoch 10, CIFAR-10 Batch 1:  Loss:     1.6196 Validation Accuracy: 0.434600\n",
      "Epoch 11, CIFAR-10 Batch 1:  Loss:     1.5828 Validation Accuracy: 0.440000\n",
      "Epoch 12, CIFAR-10 Batch 1:  Loss:     1.5675 Validation Accuracy: 0.449600\n",
      "Epoch 13, CIFAR-10 Batch 1:  Loss:     1.5405 Validation Accuracy: 0.457400\n",
      "Epoch 14, CIFAR-10 Batch 1:  Loss:     1.4638 Validation Accuracy: 0.464600\n",
      "Epoch 15, CIFAR-10 Batch 1:  Loss:     1.4203 Validation Accuracy: 0.470200\n",
      "Epoch 16, CIFAR-10 Batch 1:  Loss:     1.4639 Validation Accuracy: 0.470400\n",
      "Epoch 17, CIFAR-10 Batch 1:  Loss:     1.3856 Validation Accuracy: 0.469400\n",
      "Epoch 18, CIFAR-10 Batch 1:  Loss:     1.3851 Validation Accuracy: 0.475800\n",
      "Epoch 19, CIFAR-10 Batch 1:  Loss:     1.3506 Validation Accuracy: 0.477000\n",
      "Epoch 20, CIFAR-10 Batch 1:  Loss:     1.3799 Validation Accuracy: 0.475200\n",
      "Epoch 21, CIFAR-10 Batch 1:  Loss:     1.3257 Validation Accuracy: 0.483400\n",
      "Epoch 22, CIFAR-10 Batch 1:  Loss:     1.3356 Validation Accuracy: 0.496800\n",
      "Epoch 23, CIFAR-10 Batch 1:  Loss:     1.2682 Validation Accuracy: 0.492400\n",
      "Epoch 24, CIFAR-10 Batch 1:  Loss:     1.2849 Validation Accuracy: 0.496000\n",
      "Epoch 25, CIFAR-10 Batch 1:  Loss:     1.2625 Validation Accuracy: 0.495400\n",
      "Epoch 26, CIFAR-10 Batch 1:  Loss:     1.2728 Validation Accuracy: 0.497000\n",
      "Epoch 27, CIFAR-10 Batch 1:  Loss:     1.2061 Validation Accuracy: 0.495200\n",
      "Epoch 28, CIFAR-10 Batch 1:  Loss:     1.2083 Validation Accuracy: 0.499400\n",
      "Epoch 29, CIFAR-10 Batch 1:  Loss:     1.1485 Validation Accuracy: 0.503600\n",
      "Epoch 30, CIFAR-10 Batch 1:  Loss:     1.1708 Validation Accuracy: 0.502600\n",
      "Epoch 31, CIFAR-10 Batch 1:  Loss:     1.1559 Validation Accuracy: 0.513400\n",
      "Epoch 32, CIFAR-10 Batch 1:  Loss:     1.1507 Validation Accuracy: 0.509400\n",
      "Epoch 33, CIFAR-10 Batch 1:  Loss:     1.1436 Validation Accuracy: 0.511200\n",
      "Epoch 34, CIFAR-10 Batch 1:  Loss:     1.1547 Validation Accuracy: 0.509800\n",
      "Epoch 35, CIFAR-10 Batch 1:  Loss:     1.1201 Validation Accuracy: 0.513000\n",
      "Epoch 36, CIFAR-10 Batch 1:  Loss:     1.1418 Validation Accuracy: 0.518200\n",
      "Epoch 37, CIFAR-10 Batch 1:  Loss:     1.1091 Validation Accuracy: 0.514600\n",
      "Epoch 38, CIFAR-10 Batch 1:  Loss:     1.1194 Validation Accuracy: 0.517000\n",
      "Epoch 39, CIFAR-10 Batch 1:  Loss:     1.0922 Validation Accuracy: 0.513400\n",
      "Epoch 40, CIFAR-10 Batch 1:  Loss:     1.0904 Validation Accuracy: 0.512800\n",
      "Epoch 41, CIFAR-10 Batch 1:  Loss:     1.0883 Validation Accuracy: 0.508400\n",
      "Epoch 42, CIFAR-10 Batch 1:  Loss:     1.0591 Validation Accuracy: 0.509200\n",
      "Epoch 43, CIFAR-10 Batch 1:  Loss:     1.0345 Validation Accuracy: 0.523000\n",
      "Epoch 44, CIFAR-10 Batch 1:  Loss:     1.0278 Validation Accuracy: 0.522800\n",
      "Epoch 45, CIFAR-10 Batch 1:  Loss:     1.0186 Validation Accuracy: 0.511600\n",
      "Epoch 46, CIFAR-10 Batch 1:  Loss:     1.0002 Validation Accuracy: 0.516800\n",
      "Epoch 47, CIFAR-10 Batch 1:  Loss:     1.0154 Validation Accuracy: 0.517800\n",
      "Epoch 48, CIFAR-10 Batch 1:  Loss:     0.9961 Validation Accuracy: 0.515600\n",
      "Epoch 49, CIFAR-10 Batch 1:  Loss:     0.9746 Validation Accuracy: 0.524400\n",
      "Epoch 50, CIFAR-10 Batch 1:  Loss:     1.0005 Validation Accuracy: 0.520600\n"
     ]
    }
   ],
   "source": [
    "\"\"\"\n",
    "DON'T MODIFY ANYTHING IN THIS CELL\n",
    "\"\"\"\n",
    "print('Checking the Training on a Single Batch...')\n",
    "with tf.Session() as sess:\n",
    "    # Initializing the variables\n",
    "    sess.run(tf.global_variables_initializer())\n",
    "    \n",
    "    # Training cycle\n",
    "    for epoch in range(epochs):\n",
    "        batch_i = 1\n",
    "        for batch_features, batch_labels in helper.load_preprocess_training_batch(batch_i, batch_size):\n",
    "            train_neural_network(sess, optimizer, keep_probability, batch_features, batch_labels)\n",
    "        print('Epoch {:>2}, CIFAR-10 Batch {}:  '.format(epoch + 1, batch_i), end='')\n",
    "        print_stats(sess, batch_features, batch_labels, cost, accuracy)"
   ]
  },
  {
   "cell_type": "markdown",
   "metadata": {},
   "source": [
    "### Fully Train the Model\n",
    "Now that you got a good accuracy with a single CIFAR-10 batch, try it with all five batches."
   ]
  },
  {
   "cell_type": "code",
   "execution_count": 59,
   "metadata": {},
   "outputs": [
    {
     "name": "stdout",
     "output_type": "stream",
     "text": [
      "Training...\n",
      "Epoch  1, CIFAR-10 Batch 1:  Loss:     2.2089 Validation Accuracy: 0.161000\n",
      "Epoch  1, CIFAR-10 Batch 2:  Loss:     1.8816 Validation Accuracy: 0.273200\n",
      "Epoch  1, CIFAR-10 Batch 3:  Loss:     1.5690 Validation Accuracy: 0.287000\n",
      "Epoch  1, CIFAR-10 Batch 4:  Loss:     1.8127 Validation Accuracy: 0.302200\n",
      "Epoch  1, CIFAR-10 Batch 5:  Loss:     1.6990 Validation Accuracy: 0.322600\n",
      "Epoch  2, CIFAR-10 Batch 1:  Loss:     2.0386 Validation Accuracy: 0.351400\n",
      "Epoch  2, CIFAR-10 Batch 2:  Loss:     1.7058 Validation Accuracy: 0.358800\n",
      "Epoch  2, CIFAR-10 Batch 3:  Loss:     1.4595 Validation Accuracy: 0.361200\n",
      "Epoch  2, CIFAR-10 Batch 4:  Loss:     1.6928 Validation Accuracy: 0.372800\n",
      "Epoch  2, CIFAR-10 Batch 5:  Loss:     1.6213 Validation Accuracy: 0.384400\n",
      "Epoch  3, CIFAR-10 Batch 1:  Loss:     1.9017 Validation Accuracy: 0.393200\n",
      "Epoch  3, CIFAR-10 Batch 2:  Loss:     1.7044 Validation Accuracy: 0.404800\n",
      "Epoch  3, CIFAR-10 Batch 3:  Loss:     1.3699 Validation Accuracy: 0.411000\n",
      "Epoch  3, CIFAR-10 Batch 4:  Loss:     1.6035 Validation Accuracy: 0.421800\n",
      "Epoch  3, CIFAR-10 Batch 5:  Loss:     1.5687 Validation Accuracy: 0.430600\n",
      "Epoch  4, CIFAR-10 Batch 1:  Loss:     1.8385 Validation Accuracy: 0.430800\n",
      "Epoch  4, CIFAR-10 Batch 2:  Loss:     1.5405 Validation Accuracy: 0.442000\n",
      "Epoch  4, CIFAR-10 Batch 3:  Loss:     1.2699 Validation Accuracy: 0.437000\n",
      "Epoch  4, CIFAR-10 Batch 4:  Loss:     1.5580 Validation Accuracy: 0.445200\n",
      "Epoch  4, CIFAR-10 Batch 5:  Loss:     1.5136 Validation Accuracy: 0.454000\n",
      "Epoch  5, CIFAR-10 Batch 1:  Loss:     1.7708 Validation Accuracy: 0.452000\n",
      "Epoch  5, CIFAR-10 Batch 2:  Loss:     1.4288 Validation Accuracy: 0.462000\n",
      "Epoch  5, CIFAR-10 Batch 3:  Loss:     1.2262 Validation Accuracy: 0.453000\n",
      "Epoch  5, CIFAR-10 Batch 4:  Loss:     1.5295 Validation Accuracy: 0.457600\n",
      "Epoch  5, CIFAR-10 Batch 5:  Loss:     1.4709 Validation Accuracy: 0.467200\n",
      "Epoch  6, CIFAR-10 Batch 1:  Loss:     1.7220 Validation Accuracy: 0.458000\n",
      "Epoch  6, CIFAR-10 Batch 2:  Loss:     1.3596 Validation Accuracy: 0.463800\n",
      "Epoch  6, CIFAR-10 Batch 3:  Loss:     1.1652 Validation Accuracy: 0.472000\n",
      "Epoch  6, CIFAR-10 Batch 4:  Loss:     1.4763 Validation Accuracy: 0.477800\n",
      "Epoch  6, CIFAR-10 Batch 5:  Loss:     1.4595 Validation Accuracy: 0.473400\n",
      "Epoch  7, CIFAR-10 Batch 1:  Loss:     1.6958 Validation Accuracy: 0.474200\n",
      "Epoch  7, CIFAR-10 Batch 2:  Loss:     1.3611 Validation Accuracy: 0.477200\n",
      "Epoch  7, CIFAR-10 Batch 3:  Loss:     1.1495 Validation Accuracy: 0.474800\n",
      "Epoch  7, CIFAR-10 Batch 4:  Loss:     1.4464 Validation Accuracy: 0.482800\n",
      "Epoch  7, CIFAR-10 Batch 5:  Loss:     1.3829 Validation Accuracy: 0.489200\n",
      "Epoch  8, CIFAR-10 Batch 1:  Loss:     1.6804 Validation Accuracy: 0.484000\n",
      "Epoch  8, CIFAR-10 Batch 2:  Loss:     1.3610 Validation Accuracy: 0.490400\n",
      "Epoch  8, CIFAR-10 Batch 3:  Loss:     1.1366 Validation Accuracy: 0.481600\n",
      "Epoch  8, CIFAR-10 Batch 4:  Loss:     1.4325 Validation Accuracy: 0.493200\n",
      "Epoch  8, CIFAR-10 Batch 5:  Loss:     1.3612 Validation Accuracy: 0.489200\n",
      "Epoch  9, CIFAR-10 Batch 1:  Loss:     1.6658 Validation Accuracy: 0.494200\n",
      "Epoch  9, CIFAR-10 Batch 2:  Loss:     1.2585 Validation Accuracy: 0.483000\n",
      "Epoch  9, CIFAR-10 Batch 3:  Loss:     1.1217 Validation Accuracy: 0.479600\n",
      "Epoch  9, CIFAR-10 Batch 4:  Loss:     1.4088 Validation Accuracy: 0.497200\n",
      "Epoch  9, CIFAR-10 Batch 5:  Loss:     1.3344 Validation Accuracy: 0.490800\n",
      "Epoch 10, CIFAR-10 Batch 1:  Loss:     1.6368 Validation Accuracy: 0.500800\n",
      "Epoch 10, CIFAR-10 Batch 2:  Loss:     1.2772 Validation Accuracy: 0.490800\n",
      "Epoch 10, CIFAR-10 Batch 3:  Loss:     1.0896 Validation Accuracy: 0.494800\n",
      "Epoch 10, CIFAR-10 Batch 4:  Loss:     1.4081 Validation Accuracy: 0.494400\n",
      "Epoch 10, CIFAR-10 Batch 5:  Loss:     1.2965 Validation Accuracy: 0.504200\n",
      "Epoch 11, CIFAR-10 Batch 1:  Loss:     1.5834 Validation Accuracy: 0.515200\n",
      "Epoch 11, CIFAR-10 Batch 2:  Loss:     1.2680 Validation Accuracy: 0.500400\n",
      "Epoch 11, CIFAR-10 Batch 3:  Loss:     1.1017 Validation Accuracy: 0.493000\n",
      "Epoch 11, CIFAR-10 Batch 4:  Loss:     1.3846 Validation Accuracy: 0.507400\n",
      "Epoch 11, CIFAR-10 Batch 5:  Loss:     1.2838 Validation Accuracy: 0.497200\n",
      "Epoch 12, CIFAR-10 Batch 1:  Loss:     1.5943 Validation Accuracy: 0.515600\n",
      "Epoch 12, CIFAR-10 Batch 2:  Loss:     1.2387 Validation Accuracy: 0.501000\n",
      "Epoch 12, CIFAR-10 Batch 3:  Loss:     1.1013 Validation Accuracy: 0.492200\n",
      "Epoch 12, CIFAR-10 Batch 4:  Loss:     1.4175 Validation Accuracy: 0.503200\n",
      "Epoch 12, CIFAR-10 Batch 5:  Loss:     1.2731 Validation Accuracy: 0.504200\n",
      "Epoch 13, CIFAR-10 Batch 1:  Loss:     1.6195 Validation Accuracy: 0.511000\n",
      "Epoch 13, CIFAR-10 Batch 2:  Loss:     1.2156 Validation Accuracy: 0.507400\n",
      "Epoch 13, CIFAR-10 Batch 3:  Loss:     1.0782 Validation Accuracy: 0.507000\n",
      "Epoch 13, CIFAR-10 Batch 4:  Loss:     1.4009 Validation Accuracy: 0.506200\n",
      "Epoch 13, CIFAR-10 Batch 5:  Loss:     1.1973 Validation Accuracy: 0.505800\n",
      "Epoch 14, CIFAR-10 Batch 1:  Loss:     1.5977 Validation Accuracy: 0.516800\n",
      "Epoch 14, CIFAR-10 Batch 2:  Loss:     1.2112 Validation Accuracy: 0.515400\n",
      "Epoch 14, CIFAR-10 Batch 3:  Loss:     1.0710 Validation Accuracy: 0.507400\n",
      "Epoch 14, CIFAR-10 Batch 4:  Loss:     1.3864 Validation Accuracy: 0.508400\n",
      "Epoch 14, CIFAR-10 Batch 5:  Loss:     1.2066 Validation Accuracy: 0.517000\n",
      "Epoch 15, CIFAR-10 Batch 1:  Loss:     1.6331 Validation Accuracy: 0.520000\n",
      "Epoch 15, CIFAR-10 Batch 2:  Loss:     1.1572 Validation Accuracy: 0.502800\n",
      "Epoch 15, CIFAR-10 Batch 3:  Loss:     1.0878 Validation Accuracy: 0.507400\n",
      "Epoch 15, CIFAR-10 Batch 4:  Loss:     1.3393 Validation Accuracy: 0.517200\n",
      "Epoch 15, CIFAR-10 Batch 5:  Loss:     1.2373 Validation Accuracy: 0.503400\n",
      "Epoch 16, CIFAR-10 Batch 1:  Loss:     1.6407 Validation Accuracy: 0.507600\n",
      "Epoch 16, CIFAR-10 Batch 2:  Loss:     1.1969 Validation Accuracy: 0.512200\n",
      "Epoch 16, CIFAR-10 Batch 3:  Loss:     1.0604 Validation Accuracy: 0.510800\n",
      "Epoch 16, CIFAR-10 Batch 4:  Loss:     1.3511 Validation Accuracy: 0.516400\n",
      "Epoch 16, CIFAR-10 Batch 5:  Loss:     1.2113 Validation Accuracy: 0.509200\n",
      "Epoch 17, CIFAR-10 Batch 1:  Loss:     1.6129 Validation Accuracy: 0.516800\n",
      "Epoch 17, CIFAR-10 Batch 2:  Loss:     1.1933 Validation Accuracy: 0.522200\n",
      "Epoch 17, CIFAR-10 Batch 3:  Loss:     1.0573 Validation Accuracy: 0.517600\n",
      "Epoch 17, CIFAR-10 Batch 4:  Loss:     1.3632 Validation Accuracy: 0.518800\n",
      "Epoch 17, CIFAR-10 Batch 5:  Loss:     1.1917 Validation Accuracy: 0.518600\n",
      "Epoch 18, CIFAR-10 Batch 1:  Loss:     1.5852 Validation Accuracy: 0.516000\n",
      "Epoch 18, CIFAR-10 Batch 2:  Loss:     1.1712 Validation Accuracy: 0.516800\n",
      "Epoch 18, CIFAR-10 Batch 3:  Loss:     1.0577 Validation Accuracy: 0.510600\n",
      "Epoch 18, CIFAR-10 Batch 4:  Loss:     1.3242 Validation Accuracy: 0.517800\n",
      "Epoch 18, CIFAR-10 Batch 5:  Loss:     1.1925 Validation Accuracy: 0.512800\n",
      "Epoch 19, CIFAR-10 Batch 1:  Loss:     1.5982 Validation Accuracy: 0.512800\n",
      "Epoch 19, CIFAR-10 Batch 2:  Loss:     1.1964 Validation Accuracy: 0.527400\n",
      "Epoch 19, CIFAR-10 Batch 3:  Loss:     1.0644 Validation Accuracy: 0.519400\n",
      "Epoch 19, CIFAR-10 Batch 4:  Loss:     1.3512 Validation Accuracy: 0.527200\n",
      "Epoch 19, CIFAR-10 Batch 5:  Loss:     1.1559 Validation Accuracy: 0.524200\n",
      "Epoch 20, CIFAR-10 Batch 1:  Loss:     1.6051 Validation Accuracy: 0.519000\n",
      "Epoch 20, CIFAR-10 Batch 2:  Loss:     1.1448 Validation Accuracy: 0.518600\n",
      "Epoch 20, CIFAR-10 Batch 3:  Loss:     1.0555 Validation Accuracy: 0.516400\n",
      "Epoch 20, CIFAR-10 Batch 4:  Loss:     1.3281 Validation Accuracy: 0.523400\n",
      "Epoch 20, CIFAR-10 Batch 5:  Loss:     1.1722 Validation Accuracy: 0.523400\n",
      "Epoch 21, CIFAR-10 Batch 1:  Loss:     1.5430 Validation Accuracy: 0.521000\n",
      "Epoch 21, CIFAR-10 Batch 2:  Loss:     1.1814 Validation Accuracy: 0.530000\n",
      "Epoch 21, CIFAR-10 Batch 3:  Loss:     1.0494 Validation Accuracy: 0.525400\n",
      "Epoch 21, CIFAR-10 Batch 4:  Loss:     1.3065 Validation Accuracy: 0.531200\n",
      "Epoch 21, CIFAR-10 Batch 5:  Loss:     1.1747 Validation Accuracy: 0.515000\n",
      "Epoch 22, CIFAR-10 Batch 1:  Loss:     1.6001 Validation Accuracy: 0.509800\n",
      "Epoch 22, CIFAR-10 Batch 2:  Loss:     1.1423 Validation Accuracy: 0.529200\n",
      "Epoch 22, CIFAR-10 Batch 3:  Loss:     1.0326 Validation Accuracy: 0.518600\n"
     ]
    },
    {
     "name": "stdout",
     "output_type": "stream",
     "text": [
      "Epoch 22, CIFAR-10 Batch 4:  Loss:     1.2881 Validation Accuracy: 0.529800\n",
      "Epoch 22, CIFAR-10 Batch 5:  Loss:     1.1723 Validation Accuracy: 0.518200\n",
      "Epoch 23, CIFAR-10 Batch 1:  Loss:     1.5592 Validation Accuracy: 0.533600\n",
      "Epoch 23, CIFAR-10 Batch 2:  Loss:     1.1486 Validation Accuracy: 0.509800\n",
      "Epoch 23, CIFAR-10 Batch 3:  Loss:     1.0397 Validation Accuracy: 0.526400\n",
      "Epoch 23, CIFAR-10 Batch 4:  Loss:     1.2957 Validation Accuracy: 0.526000\n",
      "Epoch 23, CIFAR-10 Batch 5:  Loss:     1.1631 Validation Accuracy: 0.523200\n",
      "Epoch 24, CIFAR-10 Batch 1:  Loss:     1.5847 Validation Accuracy: 0.531800\n",
      "Epoch 24, CIFAR-10 Batch 2:  Loss:     1.1481 Validation Accuracy: 0.532400\n",
      "Epoch 24, CIFAR-10 Batch 3:  Loss:     1.0416 Validation Accuracy: 0.518400\n",
      "Epoch 24, CIFAR-10 Batch 4:  Loss:     1.2723 Validation Accuracy: 0.530400\n",
      "Epoch 24, CIFAR-10 Batch 5:  Loss:     1.1487 Validation Accuracy: 0.531200\n",
      "Epoch 25, CIFAR-10 Batch 1:  Loss:     1.5932 Validation Accuracy: 0.526400\n",
      "Epoch 25, CIFAR-10 Batch 2:  Loss:     1.1692 Validation Accuracy: 0.534200\n",
      "Epoch 25, CIFAR-10 Batch 3:  Loss:     1.0345 Validation Accuracy: 0.525600\n",
      "Epoch 25, CIFAR-10 Batch 4:  Loss:     1.2705 Validation Accuracy: 0.532600\n",
      "Epoch 25, CIFAR-10 Batch 5:  Loss:     1.1349 Validation Accuracy: 0.525200\n",
      "Epoch 26, CIFAR-10 Batch 1:  Loss:     1.5573 Validation Accuracy: 0.533600\n",
      "Epoch 26, CIFAR-10 Batch 2:  Loss:     1.1481 Validation Accuracy: 0.528400\n",
      "Epoch 26, CIFAR-10 Batch 3:  Loss:     1.0389 Validation Accuracy: 0.528400\n",
      "Epoch 26, CIFAR-10 Batch 4:  Loss:     1.2764 Validation Accuracy: 0.531600\n",
      "Epoch 26, CIFAR-10 Batch 5:  Loss:     1.1705 Validation Accuracy: 0.526000\n",
      "Epoch 27, CIFAR-10 Batch 1:  Loss:     1.5603 Validation Accuracy: 0.528400\n",
      "Epoch 27, CIFAR-10 Batch 2:  Loss:     1.1327 Validation Accuracy: 0.539800\n",
      "Epoch 27, CIFAR-10 Batch 3:  Loss:     1.0402 Validation Accuracy: 0.524800\n",
      "Epoch 27, CIFAR-10 Batch 4:  Loss:     1.2485 Validation Accuracy: 0.530800\n",
      "Epoch 27, CIFAR-10 Batch 5:  Loss:     1.1358 Validation Accuracy: 0.523200\n",
      "Epoch 28, CIFAR-10 Batch 1:  Loss:     1.5232 Validation Accuracy: 0.541600\n",
      "Epoch 28, CIFAR-10 Batch 2:  Loss:     1.1564 Validation Accuracy: 0.522000\n",
      "Epoch 28, CIFAR-10 Batch 3:  Loss:     1.0420 Validation Accuracy: 0.529800\n",
      "Epoch 28, CIFAR-10 Batch 4:  Loss:     1.2728 Validation Accuracy: 0.530800\n",
      "Epoch 28, CIFAR-10 Batch 5:  Loss:     1.1318 Validation Accuracy: 0.531800\n",
      "Epoch 29, CIFAR-10 Batch 1:  Loss:     1.5131 Validation Accuracy: 0.538200\n",
      "Epoch 29, CIFAR-10 Batch 2:  Loss:     1.1585 Validation Accuracy: 0.534200\n",
      "Epoch 29, CIFAR-10 Batch 3:  Loss:     1.0406 Validation Accuracy: 0.530200\n",
      "Epoch 29, CIFAR-10 Batch 4:  Loss:     1.2494 Validation Accuracy: 0.536600\n",
      "Epoch 29, CIFAR-10 Batch 5:  Loss:     1.1128 Validation Accuracy: 0.528200\n",
      "Epoch 30, CIFAR-10 Batch 1:  Loss:     1.5291 Validation Accuracy: 0.539800\n",
      "Epoch 30, CIFAR-10 Batch 2:  Loss:     1.1466 Validation Accuracy: 0.537000\n",
      "Epoch 30, CIFAR-10 Batch 3:  Loss:     1.0400 Validation Accuracy: 0.537800\n",
      "Epoch 30, CIFAR-10 Batch 4:  Loss:     1.2277 Validation Accuracy: 0.536000\n",
      "Epoch 30, CIFAR-10 Batch 5:  Loss:     1.1334 Validation Accuracy: 0.534200\n",
      "Epoch 31, CIFAR-10 Batch 1:  Loss:     1.5024 Validation Accuracy: 0.535600\n",
      "Epoch 31, CIFAR-10 Batch 2:  Loss:     1.1085 Validation Accuracy: 0.539400\n",
      "Epoch 31, CIFAR-10 Batch 3:  Loss:     1.0173 Validation Accuracy: 0.530400\n",
      "Epoch 31, CIFAR-10 Batch 4:  Loss:     1.2213 Validation Accuracy: 0.536200\n",
      "Epoch 31, CIFAR-10 Batch 5:  Loss:     1.0765 Validation Accuracy: 0.531800\n",
      "Epoch 32, CIFAR-10 Batch 1:  Loss:     1.5320 Validation Accuracy: 0.536000\n",
      "Epoch 32, CIFAR-10 Batch 2:  Loss:     1.1539 Validation Accuracy: 0.536200\n",
      "Epoch 32, CIFAR-10 Batch 3:  Loss:     1.0757 Validation Accuracy: 0.527200\n",
      "Epoch 32, CIFAR-10 Batch 4:  Loss:     1.2356 Validation Accuracy: 0.539200\n",
      "Epoch 32, CIFAR-10 Batch 5:  Loss:     1.0673 Validation Accuracy: 0.537400\n",
      "Epoch 33, CIFAR-10 Batch 1:  Loss:     1.4848 Validation Accuracy: 0.538600\n",
      "Epoch 33, CIFAR-10 Batch 2:  Loss:     1.1476 Validation Accuracy: 0.531200\n",
      "Epoch 33, CIFAR-10 Batch 3:  Loss:     1.0562 Validation Accuracy: 0.536200\n",
      "Epoch 33, CIFAR-10 Batch 4:  Loss:     1.2316 Validation Accuracy: 0.536600\n",
      "Epoch 33, CIFAR-10 Batch 5:  Loss:     1.0733 Validation Accuracy: 0.531200\n",
      "Epoch 34, CIFAR-10 Batch 1:  Loss:     1.5420 Validation Accuracy: 0.536000\n",
      "Epoch 34, CIFAR-10 Batch 2:  Loss:     1.1388 Validation Accuracy: 0.535200\n",
      "Epoch 34, CIFAR-10 Batch 3:  Loss:     1.0471 Validation Accuracy: 0.536800\n",
      "Epoch 34, CIFAR-10 Batch 4:  Loss:     1.2542 Validation Accuracy: 0.536600\n",
      "Epoch 34, CIFAR-10 Batch 5:  Loss:     1.0713 Validation Accuracy: 0.542000\n",
      "Epoch 35, CIFAR-10 Batch 1:  Loss:     1.5352 Validation Accuracy: 0.542400\n",
      "Epoch 35, CIFAR-10 Batch 2:  Loss:     1.1088 Validation Accuracy: 0.535200\n",
      "Epoch 35, CIFAR-10 Batch 3:  Loss:     1.0787 Validation Accuracy: 0.536800\n",
      "Epoch 35, CIFAR-10 Batch 4:  Loss:     1.2385 Validation Accuracy: 0.531400\n",
      "Epoch 35, CIFAR-10 Batch 5:  Loss:     1.0887 Validation Accuracy: 0.535600\n",
      "Epoch 36, CIFAR-10 Batch 1:  Loss:     1.5395 Validation Accuracy: 0.536400\n",
      "Epoch 36, CIFAR-10 Batch 2:  Loss:     1.1257 Validation Accuracy: 0.535200\n",
      "Epoch 36, CIFAR-10 Batch 3:  Loss:     1.0670 Validation Accuracy: 0.537400\n",
      "Epoch 36, CIFAR-10 Batch 4:  Loss:     1.2542 Validation Accuracy: 0.534200\n",
      "Epoch 36, CIFAR-10 Batch 5:  Loss:     1.1198 Validation Accuracy: 0.538600\n",
      "Epoch 37, CIFAR-10 Batch 1:  Loss:     1.4954 Validation Accuracy: 0.540200\n",
      "Epoch 37, CIFAR-10 Batch 2:  Loss:     1.1059 Validation Accuracy: 0.537400\n",
      "Epoch 37, CIFAR-10 Batch 3:  Loss:     1.0893 Validation Accuracy: 0.533600\n",
      "Epoch 37, CIFAR-10 Batch 4:  Loss:     1.2453 Validation Accuracy: 0.535200\n",
      "Epoch 37, CIFAR-10 Batch 5:  Loss:     1.0644 Validation Accuracy: 0.536400\n",
      "Epoch 38, CIFAR-10 Batch 1:  Loss:     1.5059 Validation Accuracy: 0.543000\n",
      "Epoch 38, CIFAR-10 Batch 2:  Loss:     1.1239 Validation Accuracy: 0.538200\n",
      "Epoch 38, CIFAR-10 Batch 3:  Loss:     1.0524 Validation Accuracy: 0.533600\n",
      "Epoch 38, CIFAR-10 Batch 4:  Loss:     1.2486 Validation Accuracy: 0.526200\n",
      "Epoch 38, CIFAR-10 Batch 5:  Loss:     1.0569 Validation Accuracy: 0.538400\n",
      "Epoch 39, CIFAR-10 Batch 1:  Loss:     1.5084 Validation Accuracy: 0.538600\n",
      "Epoch 39, CIFAR-10 Batch 2:  Loss:     1.1070 Validation Accuracy: 0.543600\n",
      "Epoch 39, CIFAR-10 Batch 3:  Loss:     1.0384 Validation Accuracy: 0.536600\n",
      "Epoch 39, CIFAR-10 Batch 4:  Loss:     1.2338 Validation Accuracy: 0.539400\n",
      "Epoch 39, CIFAR-10 Batch 5:  Loss:     1.0558 Validation Accuracy: 0.534200\n",
      "Epoch 40, CIFAR-10 Batch 1:  Loss:     1.4983 Validation Accuracy: 0.543800\n",
      "Epoch 40, CIFAR-10 Batch 2:  Loss:     1.1056 Validation Accuracy: 0.533000\n",
      "Epoch 40, CIFAR-10 Batch 3:  Loss:     1.0539 Validation Accuracy: 0.533000\n",
      "Epoch 40, CIFAR-10 Batch 4:  Loss:     1.2410 Validation Accuracy: 0.530200\n",
      "Epoch 40, CIFAR-10 Batch 5:  Loss:     1.0825 Validation Accuracy: 0.533600\n",
      "Epoch 41, CIFAR-10 Batch 1:  Loss:     1.4915 Validation Accuracy: 0.541600\n",
      "Epoch 41, CIFAR-10 Batch 2:  Loss:     1.1014 Validation Accuracy: 0.542400\n",
      "Epoch 41, CIFAR-10 Batch 3:  Loss:     1.0456 Validation Accuracy: 0.539000\n",
      "Epoch 41, CIFAR-10 Batch 4:  Loss:     1.2640 Validation Accuracy: 0.529600\n",
      "Epoch 41, CIFAR-10 Batch 5:  Loss:     1.0424 Validation Accuracy: 0.540200\n",
      "Epoch 42, CIFAR-10 Batch 1:  Loss:     1.4927 Validation Accuracy: 0.541200\n",
      "Epoch 42, CIFAR-10 Batch 2:  Loss:     1.1138 Validation Accuracy: 0.542400\n",
      "Epoch 42, CIFAR-10 Batch 3:  Loss:     1.0338 Validation Accuracy: 0.538200\n",
      "Epoch 42, CIFAR-10 Batch 4:  Loss:     1.2555 Validation Accuracy: 0.533000\n",
      "Epoch 42, CIFAR-10 Batch 5:  Loss:     1.0990 Validation Accuracy: 0.535600\n",
      "Epoch 43, CIFAR-10 Batch 1:  Loss:     1.5054 Validation Accuracy: 0.539400\n",
      "Epoch 43, CIFAR-10 Batch 2:  Loss:     1.1044 Validation Accuracy: 0.541800\n",
      "Epoch 43, CIFAR-10 Batch 3:  Loss:     1.0088 Validation Accuracy: 0.536800\n",
      "Epoch 43, CIFAR-10 Batch 4:  Loss:     1.2650 Validation Accuracy: 0.532000\n",
      "Epoch 43, CIFAR-10 Batch 5:  Loss:     1.0377 Validation Accuracy: 0.541400\n",
      "Epoch 44, CIFAR-10 Batch 1:  Loss:     1.4697 Validation Accuracy: 0.540600\n"
     ]
    },
    {
     "name": "stdout",
     "output_type": "stream",
     "text": [
      "Epoch 44, CIFAR-10 Batch 2:  Loss:     1.1104 Validation Accuracy: 0.533600\n",
      "Epoch 44, CIFAR-10 Batch 3:  Loss:     1.0228 Validation Accuracy: 0.538400\n",
      "Epoch 44, CIFAR-10 Batch 4:  Loss:     1.2454 Validation Accuracy: 0.533200\n",
      "Epoch 44, CIFAR-10 Batch 5:  Loss:     1.0629 Validation Accuracy: 0.542200\n",
      "Epoch 45, CIFAR-10 Batch 1:  Loss:     1.5032 Validation Accuracy: 0.544800\n",
      "Epoch 45, CIFAR-10 Batch 2:  Loss:     1.0779 Validation Accuracy: 0.548600\n",
      "Epoch 45, CIFAR-10 Batch 3:  Loss:     1.0222 Validation Accuracy: 0.545000\n",
      "Epoch 45, CIFAR-10 Batch 4:  Loss:     1.2275 Validation Accuracy: 0.544200\n",
      "Epoch 45, CIFAR-10 Batch 5:  Loss:     1.0333 Validation Accuracy: 0.545000\n",
      "Epoch 46, CIFAR-10 Batch 1:  Loss:     1.4443 Validation Accuracy: 0.545000\n",
      "Epoch 46, CIFAR-10 Batch 2:  Loss:     1.0781 Validation Accuracy: 0.540400\n",
      "Epoch 46, CIFAR-10 Batch 3:  Loss:     1.0069 Validation Accuracy: 0.543400\n",
      "Epoch 46, CIFAR-10 Batch 4:  Loss:     1.2590 Validation Accuracy: 0.536200\n",
      "Epoch 46, CIFAR-10 Batch 5:  Loss:     1.0638 Validation Accuracy: 0.540200\n",
      "Epoch 47, CIFAR-10 Batch 1:  Loss:     1.4707 Validation Accuracy: 0.544800\n",
      "Epoch 47, CIFAR-10 Batch 2:  Loss:     1.0726 Validation Accuracy: 0.531400\n",
      "Epoch 47, CIFAR-10 Batch 3:  Loss:     1.0441 Validation Accuracy: 0.543200\n",
      "Epoch 47, CIFAR-10 Batch 4:  Loss:     1.2490 Validation Accuracy: 0.541400\n",
      "Epoch 47, CIFAR-10 Batch 5:  Loss:     1.0111 Validation Accuracy: 0.545600\n",
      "Epoch 48, CIFAR-10 Batch 1:  Loss:     1.4876 Validation Accuracy: 0.544800\n",
      "Epoch 48, CIFAR-10 Batch 2:  Loss:     1.0819 Validation Accuracy: 0.545400\n",
      "Epoch 48, CIFAR-10 Batch 3:  Loss:     1.0001 Validation Accuracy: 0.540800\n",
      "Epoch 48, CIFAR-10 Batch 4:  Loss:     1.2333 Validation Accuracy: 0.530800\n",
      "Epoch 48, CIFAR-10 Batch 5:  Loss:     1.0380 Validation Accuracy: 0.550600\n",
      "Epoch 49, CIFAR-10 Batch 1:  Loss:     1.4422 Validation Accuracy: 0.544400\n",
      "Epoch 49, CIFAR-10 Batch 2:  Loss:     1.0905 Validation Accuracy: 0.544200\n",
      "Epoch 49, CIFAR-10 Batch 3:  Loss:     0.9967 Validation Accuracy: 0.543600\n",
      "Epoch 49, CIFAR-10 Batch 4:  Loss:     1.2252 Validation Accuracy: 0.540400\n",
      "Epoch 49, CIFAR-10 Batch 5:  Loss:     1.0188 Validation Accuracy: 0.554200\n",
      "Epoch 50, CIFAR-10 Batch 1:  Loss:     1.4976 Validation Accuracy: 0.552600\n",
      "Epoch 50, CIFAR-10 Batch 2:  Loss:     1.0756 Validation Accuracy: 0.549400\n",
      "Epoch 50, CIFAR-10 Batch 3:  Loss:     1.0204 Validation Accuracy: 0.554400\n",
      "Epoch 50, CIFAR-10 Batch 4:  Loss:     1.1947 Validation Accuracy: 0.547200\n",
      "Epoch 50, CIFAR-10 Batch 5:  Loss:     1.0115 Validation Accuracy: 0.547600\n"
     ]
    }
   ],
   "source": [
    "\"\"\"\n",
    "DON'T MODIFY ANYTHING IN THIS CELL\n",
    "\"\"\"\n",
    "save_model_path = './image_classification'\n",
    "\n",
    "print('Training...')\n",
    "with tf.Session() as sess:\n",
    "    # Initializing the variables\n",
    "    sess.run(tf.global_variables_initializer())\n",
    "    \n",
    "    # Training cycle\n",
    "    for epoch in range(epochs):\n",
    "        # Loop over all batches\n",
    "        n_batches = 5\n",
    "        for batch_i in range(1, n_batches + 1):\n",
    "            for batch_features, batch_labels in helper.load_preprocess_training_batch(batch_i, batch_size):\n",
    "                train_neural_network(sess, optimizer, keep_probability, batch_features, batch_labels)\n",
    "            print('Epoch {:>2}, CIFAR-10 Batch {}:  '.format(epoch + 1, batch_i), end='')\n",
    "            print_stats(sess, batch_features, batch_labels, cost, accuracy)\n",
    "            \n",
    "    # Save Model\n",
    "    saver = tf.train.Saver()\n",
    "    save_path = saver.save(sess, save_model_path)"
   ]
  },
  {
   "cell_type": "markdown",
   "metadata": {},
   "source": [
    "# Checkpoint\n",
    "The model has been saved to disk.\n",
    "## Test Model\n",
    "Test your model against the test dataset.  This will be your final accuracy. You should have an accuracy greater than 50%. If you don't, keep tweaking the model architecture and parameters."
   ]
  },
  {
   "cell_type": "code",
   "execution_count": 61,
   "metadata": {},
   "outputs": [
    {
     "name": "stdout",
     "output_type": "stream",
     "text": [
      "INFO:tensorflow:Restoring parameters from ./image_classification\n",
      "Testing Accuracy: 0.5574243630573248\n",
      "\n"
     ]
    },
    {
     "data": {
      "image/png": "[encoded data removed]",
      "text/plain": [
       "<matplotlib.figure.Figure at 0x7f9e698edd30>"
      ]
     },
     "metadata": {
      "image/png": {
       "height": 319,
       "width": 355
      }
     },
     "output_type": "display_data"
    }
   ],
   "source": [
    "\"\"\"\n",
    "DON'T MODIFY ANYTHING IN THIS CELL\n",
    "\"\"\"\n",
    "%matplotlib inline\n",
    "%config InlineBackend.figure_format = 'retina'\n",
    "\n",
    "import tensorflow as tf\n",
    "import pickle\n",
    "import helper\n",
    "import random\n",
    "\n",
    "# Set batch size if not already set\n",
    "try:\n",
    "    if batch_size:\n",
    "        pass\n",
    "except NameError:\n",
    "    batch_size = 64\n",
    "\n",
    "save_model_path = './image_classification'\n",
    "n_samples = 4\n",
    "top_n_predictions = 3\n",
    "\n",
    "def test_model():\n",
    "    \"\"\"\n",
    "    Test the saved model against the test dataset\n",
    "    \"\"\"\n",
    "\n",
    "    test_features, test_labels = pickle.load(open('preprocess_training.p', mode='rb'))\n",
    "    loaded_graph = tf.Graph()\n",
    "\n",
    "    with tf.Session(graph=loaded_graph) as sess:\n",
    "        # Load model\n",
    "        loader = tf.train.import_meta_graph(save_model_path + '.meta')\n",
    "        loader.restore(sess, save_model_path)\n",
    "\n",
    "        # Get Tensors from loaded model\n",
    "        loaded_x = loaded_graph.get_tensor_by_name('x:0')\n",
    "        loaded_y = loaded_graph.get_tensor_by_name('y:0')\n",
    "        loaded_keep_prob = loaded_graph.get_tensor_by_name('keep_prob:0')\n",
    "        loaded_logits = loaded_graph.get_tensor_by_name('logits:0')\n",
    "        loaded_acc = loaded_graph.get_tensor_by_name('accuracy:0')\n",
    "        \n",
    "        # Get accuracy in batches for memory limitations\n",
    "        test_batch_acc_total = 0\n",
    "        test_batch_count = 0\n",
    "        \n",
    "        for train_feature_batch, train_label_batch in helper.batch_features_labels(test_features, test_labels, batch_size):\n",
    "            test_batch_acc_total += sess.run(\n",
    "                loaded_acc,\n",
    "                feed_dict={loaded_x: train_feature_batch, loaded_y: train_label_batch, loaded_keep_prob: 1.0})\n",
    "            test_batch_count += 1\n",
    "\n",
    "        print('Testing Accuracy: {}\\n'.format(test_batch_acc_total/test_batch_count))\n",
    "\n",
    "        # Print Random Samples\n",
    "        random_test_features, random_test_labels = tuple(zip(*random.sample(list(zip(test_features, test_labels)), n_samples)))\n",
    "        random_test_predictions = sess.run(\n",
    "            tf.nn.top_k(tf.nn.softmax(loaded_logits), top_n_predictions),\n",
    "            feed_dict={loaded_x: random_test_features, loaded_y: random_test_labels, loaded_keep_prob: 1.0})\n",
    "        helper.display_image_predictions(random_test_features, random_test_labels, random_test_predictions)\n",
    "\n",
    "\n",
    "test_model()"
   ]
  },
  {
   "cell_type": "markdown",
   "metadata": {},
   "source": [
    "## Why 50-70% Accuracy?\n",
    "You might be wondering why you can't get an accuracy any higher. First things first, 50% isn't bad for a simple CNN.  Pure guessing would get you 10% accuracy. However, you might notice people are getting scores [well above 70%](http://rodrigob.github.io/are_we_there_yet/build/classification_datasets_results.html#43494641522d3130).  That's because we haven't taught you all there is to know about neural networks. We still need to cover a few more techniques.\n",
    "## Submitting This Project\n",
    "When submitting this project, make sure to run all the cells before saving the notebook.  Save the notebook file as \"dlnd_image_classification.ipynb\" and save it as a HTML file under \"File\" -> \"Download as\".  Include the \"helper.py\" and \"problem_unittests.py\" files in your submission."
   ]
  }
 ],
 "metadata": {
  "kernelspec": {
   "display_name": "Python 3",
   "language": "python",
   "name": "python3"
  },
  "language_info": {
   "codemirror_mode": {
    "name": "ipython",
    "version": 3
   },
   "file_extension": ".py",
   "mimetype": "text/x-python",
   "name": "python",
   "nbconvert_exporter": "python",
   "pygments_lexer": "ipython3",
   "version": "3.5.3"
  }
 },
 "nbformat": 4,
 "nbformat_minor": 1
}
